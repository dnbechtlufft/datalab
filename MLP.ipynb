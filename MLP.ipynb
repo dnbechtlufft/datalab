{
 "cells": [
  {
   "cell_type": "code",
   "execution_count": 185,
   "metadata": {},
   "outputs": [],
   "source": [
    "import pandas as pd\n",
    "import numpy as np\n",
    "import math"
   ]
  },
  {
   "cell_type": "code",
   "execution_count": 2,
   "metadata": {},
   "outputs": [],
   "source": [
    "df = pd.read_csv(\"mnist/mnist_train.csv\")"
   ]
  },
  {
   "cell_type": "code",
   "execution_count": 175,
   "metadata": {},
   "outputs": [],
   "source": [
    "learning_rate = 0.005\n",
    "epochs = 100\n",
    "hidden_layer_len = 15\n",
    "output_layer_len = 10"
   ]
  },
  {
   "cell_type": "code",
   "execution_count": 200,
   "metadata": {},
   "outputs": [],
   "source": [
    "def activation_sigmoid(x, deriv = False):\n",
    "    if deriv == True:\n",
    "        return x*(1-x)\n",
    "    return 1 / (1 + np.exp(-x))\n",
    "\n",
    "def activation_tanh(x, deriv = False):\n",
    "    if deriv == True:\n",
    "        return 1 - pow(math.tanh(x), 2)\n",
    "    return math.tanh(x)\n",
    "\n",
    "def split_train_validation(dataset):\n",
    "    df_train = pd.DataFrame()\n",
    "    df_validation = pd.DataFrame()\n",
    "    for i in range(10):\n",
    "        selection = dataset['5'] == i\n",
    "        df_selection = dataset[selection]\n",
    "        df_train_aux = df_selection.sample(frac = 0.7)\n",
    "        df_validation_aux = df_selection.drop(df_train_aux.index)\n",
    "        df_train = pd.concat([df_train, df_train_aux])\n",
    "        df_validation = pd.concat([df_validation, df_validation_aux])\n",
    "    df_train = df_train.sample(frac = 1).reset_index(drop = True)\n",
    "    df_validation = df_validation.sample(frac = 1).reset_index(drop = True)\n",
    "    return df_train, df_validation\n",
    "\n",
    "def normalize_data(dataset):\n",
    "    df_array = dataset.values/255\n",
    "    return df_array"
   ]
  },
  {
   "cell_type": "code",
   "execution_count": 177,
   "metadata": {},
   "outputs": [],
   "source": [
    "df_train, df_validation = split_train_validation(df)\n",
    "\n",
    "X_train = normalize_data(df_train.iloc[:, 1:])\n",
    "y_train = df_train.iloc[:, :1].values\n",
    "X_validation = normalize_data(df_validation.iloc[:, 1:])\n",
    "y_validation = df_validation.iloc[:, :1].values"
   ]
  },
  {
   "cell_type": "code",
   "execution_count": 202,
   "metadata": {},
   "outputs": [],
   "source": [
    "weights_in = np.random.normal(0, 1, (15, 784)) * 0.2\n",
    "weights_hidden = np.random.normal(0, 1, (10, 15)) * 0.2"
   ]
  },
  {
   "cell_type": "code",
   "execution_count": 203,
   "metadata": {},
   "outputs": [
    {
     "name": "stdout",
     "output_type": "stream",
     "text": [
      "Accuracy de 79.22662370131674% na 1ª epoch\n",
      "Accuracy de 91.49952775154175% na 11ª epoch\n",
      "Accuracy de 92.43291293960776% na 21ª epoch\n",
      "Accuracy de 92.78848824934718% na 31ª epoch\n",
      "Accuracy de 93.02739041057836% na 41ª epoch\n",
      "Accuracy de 93.16073115173066% na 51ª epoch\n",
      "Accuracy de 93.20517806544808% na 61ª epoch\n",
      "Accuracy de 93.34407467081505% na 71ª epoch\n",
      "Accuracy de 93.37185399188844% na 81ª epoch\n",
      "Accuracy de 93.41630090560587% na 91ª epoch\n"
     ]
    }
   ],
   "source": [
    "for epoch in range(epochs): \n",
    "    for i in range(y_train.size):\n",
    "        input_layer = X_train[i]\n",
    "        hidden_layer = activation_sigmoid(np.dot(weights_in, input_layer))\n",
    "        output_layer = activation_sigmoid(np.dot(weights_hidden, hidden_layer))\n",
    "\n",
    "        target = np.zeros(10)\n",
    "        target[y_train[i]] = 1\n",
    "\n",
    "        output_error = target - pow(output_layer, 2)\n",
    "        hidden_error = np.dot(weights_hidden.T, output_error)\n",
    "\n",
    "        hidden_delta = learning_rate * output_error * activation_sigmoid(output_layer, deriv = True)\n",
    "        hidden_delta = np.outer(hidden_delta, hidden_layer)\n",
    "        weights_hidden += hidden_delta\n",
    "\n",
    "        input_delta = learning_rate * hidden_error * activation_sigmoid(hidden_layer, deriv = True)\n",
    "        input_delta = np.outer(input_delta, input_layer)\n",
    "        weights_in += input_delta\n",
    "    if epoch % 10 == 0:\n",
    "        error = 0\n",
    "        for j in range(y_validation.size):\n",
    "            input_layer = X_validation[j]\n",
    "            hidden_layer = activation_sigmoid(np.dot(weights_in, input_layer))\n",
    "            output_layer = activation_sigmoid(np.dot(weights_hidden, hidden_layer))\n",
    "\n",
    "            target = y_validation[j]\n",
    "            y = np.argmax(output_layer)\n",
    "            if target != y:\n",
    "                error += 1\n",
    "\n",
    "        print(\"Accuracy de {}% na {}ª epoch\".format(100 - (100*error/y_validation.size), epoch+1))"
   ]
  },
  {
   "cell_type": "code",
   "execution_count": 57,
   "metadata": {},
   "outputs": [],
   "source": [
    "df_test = pd.read_csv(\"mnist/mnist_test.csv\")"
   ]
  },
  {
   "cell_type": "code",
   "execution_count": 183,
   "metadata": {},
   "outputs": [],
   "source": [
    "X_test = normalize_data(df_test.iloc[:, 1:])\n",
    "y_test = df_test.iloc[:, :1].values"
   ]
  },
  {
   "cell_type": "code",
   "execution_count": 204,
   "metadata": {},
   "outputs": [
    {
     "name": "stdout",
     "output_type": "stream",
     "text": [
      "Accuracy de 93.68936893689369%\n"
     ]
    }
   ],
   "source": [
    "error = 0\n",
    "for j in range(y_test.size):\n",
    "    input_layer = X_test[j]\n",
    "    hidden_layer = activation_sigmoid(np.dot(weights_in, input_layer))\n",
    "    output_layer = activation_sigmoid(np.dot(weights_hidden, hidden_layer))\n",
    "    \n",
    "    target = y_test[j]\n",
    "    y = np.argmax(output_layer)\n",
    "    if target != y:\n",
    "        error += 1\n",
    "        \n",
    "print(\"Accuracy de {}%\".format(100 - (100*error/y_test.size)))"
   ]
  }
 ],
 "metadata": {
  "kernelspec": {
   "display_name": "Python 3",
   "language": "python",
   "name": "python3"
  },
  "language_info": {
   "codemirror_mode": {
    "name": "ipython",
    "version": 3
   },
   "file_extension": ".py",
   "mimetype": "text/x-python",
   "name": "python",
   "nbconvert_exporter": "python",
   "pygments_lexer": "ipython3",
   "version": "3.6.6"
  }
 },
 "nbformat": 4,
 "nbformat_minor": 2
}
