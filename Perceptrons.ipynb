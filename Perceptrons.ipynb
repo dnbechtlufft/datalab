{
 "cells": [
  {
   "cell_type": "code",
   "execution_count": 61,
   "metadata": {},
   "outputs": [],
   "source": [
    "import pandas as pd\n",
    "import numpy as np\n",
    "import math\n",
    "\n",
    "from sklearn.decomposition import PCA\n",
    "\n",
    "def sigmoid(x):\n",
    "    return (1 / (1 + np.exp(-x)))\n",
    "\n",
    "def choose_new(answer):\n",
    "    return answer.index(max(answer))"
   ]
  },
  {
   "cell_type": "code",
   "execution_count": 62,
   "metadata": {},
   "outputs": [],
   "source": [
    "df = pd.read_csv('mnist/mnist_train.csv')\n",
    "df_test = pd.read_csv('mnist/mnist_test.csv')"
   ]
  },
  {
   "cell_type": "code",
   "execution_count": 63,
   "metadata": {
    "scrolled": true
   },
   "outputs": [],
   "source": [
    "epochs = 250\n",
    "learning_rate = 0.001\n",
    "perseps_list = []\n",
    "for persep in range (10):   \n",
    "\n",
    "    selecao = df['5'] == persep\n",
    "    X_1 = df[selecao].copy()\n",
    "    sample_len = X_1.shape[0]\n",
    "    X_1['5'] = 1\n",
    "\n",
    "    for i in range(10):\n",
    "        if i != persep:\n",
    "            selecao = df['5'] == i\n",
    "            X_2 = df[selecao].copy()\n",
    "            X_2['5'] = 0\n",
    "            X_1 = pd.concat([X_1, X_2.sample(int(sample_len/9))])\n",
    "\n",
    "    df_train = X_1.sample(frac = 1).reset_index(drop = True)\n",
    "\n",
    "    X_train = df_train.iloc[:, 1:]\n",
    "    X_train['b'] = 1\n",
    "    X_train = X_train.values/255\n",
    "    y_train = df_train.iloc[:, :1].values\n",
    "    weight = np.random.normal(0, 0.5, X_train.shape[1])\n",
    "    \n",
    "    for i in range(epochs):\n",
    "        j = 0\n",
    "        for example in X_train:\n",
    "            net = np.dot(example, weight)\n",
    "            a = sigmoid(net)\n",
    "            delta = y_train[j] - a\n",
    "            weight = weight + learning_rate * delta * example\n",
    "            j += 1\n",
    "    perseps_list.append(weight)"
   ]
  },
  {
   "cell_type": "code",
   "execution_count": 68,
   "metadata": {
    "scrolled": true
   },
   "outputs": [
    {
     "name": "stdout",
     "output_type": "stream",
     "text": [
      "A taxa de acerto do perseptron 0 foi de [96.94654425]%\n",
      "A taxa de acerto do perseptron 1 foi de [97.53444926]%\n",
      "A taxa de acerto do perseptron 2 foi de [92.1693932]%\n",
      "A taxa de acerto do perseptron 3 foi de [89.7808998]%\n",
      "A taxa de acerto do perseptron 4 foi de [94.96841961]%\n",
      "A taxa de acerto do perseptron 5 foi de [89.65620245]%\n",
      "A taxa de acerto do perseptron 6 foi de [95.51653762]%\n",
      "A taxa de acerto do perseptron 7 foi de [95.38383507]%\n",
      "A taxa de acerto do perseptron 8 foi de [81.83830308]%\n",
      "A taxa de acerto do perseptron 9 foi de [89.19980254]%\n"
     ]
    }
   ],
   "source": [
    "for i in range(10):    \n",
    "\n",
    "    selecao = df_test['7'] == i\n",
    "    X_1 = df_test[selecao].copy()\n",
    "    X_1['7'] = 1\n",
    "    X_2 = df_test[~selecao].copy()\n",
    "    X_2['7'] = 0\n",
    "    df_test_adjusted = pd.concat([X_1, X_2])\n",
    "\n",
    "    X_test = df_test_adjusted.iloc[:,1:]\n",
    "    X_test['b'] = 1\n",
    "    X_test = X_test.values/255\n",
    "    y_test = df_test_adjusted.iloc[:, :1].values\n",
    "\n",
    "    error = 0\n",
    "    j = 0\n",
    "    for example in X_test:\n",
    "        net = np.dot(example, perseps_list[i])\n",
    "        a = sigmoid(net)\n",
    "        delta = y_test[j] - a\n",
    "        error += abs(delta)\n",
    "        j += 1\n",
    "    print(\"A taxa de acerto do perseptron {} foi de {}%\".format(i, 100-error*100/df_test.shape[0]))                               "
   ]
  },
  {
   "cell_type": "code",
   "execution_count": 69,
   "metadata": {
    "scrolled": true
   },
   "outputs": [
    {
     "name": "stdout",
     "output_type": "stream",
     "text": [
      "A taxa de acerto da rede foi de 90.66906690669067%\n"
     ]
    }
   ],
   "source": [
    "df_test = pd.read_csv('mnist/mnist_test.csv')\n",
    "X_test = df_test.iloc[:, 1:]\n",
    "X_test['b'] = 1\n",
    "X_test = X_test.values/255\n",
    "y_test = df_test.iloc[:, :1].values\n",
    "\n",
    "j = 0\n",
    "error = 0\n",
    "predicted = []\n",
    "for example in X_test:\n",
    "    answer = []\n",
    "    for percep in perseps_list:\n",
    "        net = np.dot(example, percep)\n",
    "        a = sigmoid(net)\n",
    "        answer.append(a)\n",
    "    right_percep = choose_new(answer)\n",
    "    delta = y_test[j] - right_percep\n",
    "    if delta != 0:\n",
    "        error += 1\n",
    "    j += 1\n",
    "    predicted.append(right_percep)\n",
    "print(\"A taxa de acerto da rede foi de {}%\".format(100-error*100/df_test.shape[0]))"
   ]
  },
  {
   "cell_type": "code",
   "execution_count": 66,
   "metadata": {},
   "outputs": [],
   "source": [
    "from sklearn.metrics import confusion_matrix\n",
    "import matplotlib.pyplot as plt\n",
    "import seaborn as sn"
   ]
  },
  {
   "cell_type": "code",
   "execution_count": 67,
   "metadata": {},
   "outputs": [
    {
     "data": {
      "text/plain": [
       "<matplotlib.axes._subplots.AxesSubplot at 0x7fb123f336d8>"
      ]
     },
     "execution_count": 67,
     "metadata": {},
     "output_type": "execute_result"
    },
    {
     "data": {
      "image/png": "[encoded data removed]",
      "text/plain": [
       "<Figure size 720x504 with 2 Axes>"
      ]
     },
     "metadata": {},
     "output_type": "display_data"
    }
   ],
   "source": [
    "array = confusion_matrix(y_test, predicted)\n",
    "df_cm = pd.DataFrame(array, index = [i for i in'0123456789'], columns = [i for i in '0123456789'])\n",
    "plt.figure(figsize = (10,7))\n",
    "sn.heatmap(df_cm, annot=True, cmap=\"YlGnBu\", fmt = \"d\")"
   ]
  }
 ],
 "metadata": {
  "kernelspec": {
   "display_name": "Python 3",
   "language": "python",
   "name": "python3"
  },
  "language_info": {
   "codemirror_mode": {
    "name": "ipython",
    "version": 3
   },
   "file_extension": ".py",
   "mimetype": "text/x-python",
   "name": "python",
   "nbconvert_exporter": "python",
   "pygments_lexer": "ipython3",
   "version": "3.6.6"
  }
 },
 "nbformat": 4,
 "nbformat_minor": 2
}
